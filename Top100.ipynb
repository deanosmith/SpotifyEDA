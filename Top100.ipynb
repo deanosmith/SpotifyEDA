{
 "cells": [
  {
   "cell_type": "markdown",
   "metadata": {},
   "source": [
    "https://www.linkedin.com/pulse/extracting-your-fav-playlist-info-spotifys-api-samantha-jones/"
   ]
  },
  {
   "cell_type": "markdown",
   "metadata": {},
   "source": [
    "https://towardsdatascience.com/reverse-engineering-spotify-wrapped-ai-using-python-452b58ad1a62"
   ]
  },
  {
   "cell_type": "markdown",
   "metadata": {},
   "source": [
    "https://towardsdatascience.com/extracting-song-data-from-the-spotify-api-using-python-b1e79388d50"
   ]
  },
  {
   "cell_type": "markdown",
   "metadata": {},
   "source": [
    "# Import and Settings\n",
    "### Python - 3.9.10"
   ]
  },
  {
   "cell_type": "code",
   "metadata": {
    "ExecuteTime": {
     "end_time": "2024-07-02T13:36:17.857948Z",
     "start_time": "2024-07-02T13:36:17.573838Z"
    }
   },
   "source": [
    "import spotipy\n",
    "import numpy as np\n",
    "import pandas as pd\n",
    "import seaborn as sb\n",
    "from creds import cid, secret\n",
    "import matplotlib.pyplot as mpl\n",
    "from spotipy.oauth2 import SpotifyClientCredentials"
   ],
   "outputs": [],
   "execution_count": 3
  },
  {
   "cell_type": "code",
   "metadata": {
    "ExecuteTime": {
     "end_time": "2024-07-02T13:36:17.860691Z",
     "start_time": "2024-07-02T13:36:17.858827Z"
    }
   },
   "source": [
    "#  Your Spotify API app credentials\n",
    "# cid = 'your_client id'\n",
    "# secret = 'your_client secret'\n",
    "\n",
    "client_credentials_manager = SpotifyClientCredentials(client_id=cid, client_secret=secret)\n",
    "sp = spotipy.Spotify(client_credentials_manager = client_credentials_manager)\n"
   ],
   "outputs": [],
   "execution_count": 4
  },
  {
   "cell_type": "code",
   "metadata": {
    "ExecuteTime": {
     "end_time": "2024-07-02T13:36:17.863023Z",
     "start_time": "2024-07-02T13:36:17.861341Z"
    }
   },
   "source": [
    "# Playlist Link\n",
    "playlist_link = \"https://open.spotify.com/playlist/5ABHKGoOzxkaa28ttQV9sE?si=cb97d0c0919449a7\"\n",
    "\n",
    "playlist_URI = playlist_link.split(\"/\")[-1].split(\"?\")[0]"
   ],
   "outputs": [],
   "execution_count": 5
  },
  {
   "cell_type": "code",
   "metadata": {
    "ExecuteTime": {
     "end_time": "2024-07-02T13:36:18.013977Z",
     "start_time": "2024-07-02T13:36:17.864591Z"
    }
   },
   "source": [
    "playlist_features_list = [\n",
    "    \"track_id\",\n",
    "    \"track_name\",\n",
    "    \"artist\",\n",
    "    \"album\",\n",
    "    \"tempo\",\n",
    "    \"duration_ms\",\n",
    "    \"danceability\",\n",
    "    \"energy\",\n",
    "    \"key\",\n",
    "    \"loudness\",\n",
    "    \"mode\",\n",
    "    \"speechiness\",\n",
    "    \"instrumentalness\",\n",
    "    \"liveness\",\n",
    "    \"valence\",\n",
    "    \"time_signature\"\n",
    "    ]\n",
    "\n",
    "df = pd.DataFrame(columns = playlist_features_list)\n",
    "    \n",
    "playlist = sp.user_playlist_tracks(\"spotify\", playlist_URI)[\"items\"]\n",
    "for track in playlist:\n",
    "    # Create empty dict\n",
    "    playlist_features = {}\n",
    "    # Get metadata\n",
    "    playlist_features[\"artist\"] = track[\"track\"][\"album\"][\"artists\"][0][\"name\"]\n",
    "    playlist_features[\"album\"] = track[\"track\"][\"album\"][\"name\"]\n",
    "    playlist_features[\"track_name\"] = track[\"track\"][\"name\"]\n",
    "    playlist_features[\"track_id\"] = track[\"track\"][\"id\"]\n",
    "    \n",
    "    # Get audio features\n",
    "    audio_features = sp.audio_features(playlist_features[\"track_id\"])[0]\n",
    "    for feature in playlist_features_list[4:]:\n",
    "        playlist_features[feature] = audio_features[feature]\n",
    "    \n",
    "    # Concat the dfs\n",
    "    track_df = pd.DataFrame(playlist_features, index = [0])\n",
    "    df = pd.concat([df, track_df], ignore_index = True)\n",
    "\n",
    "# return playlist_df\n"
   ],
   "outputs": [
    {
     "ename": "JSONDecodeError",
     "evalue": "Expecting value: line 1 column 1 (char 0)",
     "output_type": "error",
     "traceback": [
      "\u001B[0;31m---------------------------------------------------------------------------\u001B[0m",
      "\u001B[0;31mJSONDecodeError\u001B[0m                           Traceback (most recent call last)",
      "Cell \u001B[0;32mIn[6], line 22\u001B[0m\n\u001B[1;32m      1\u001B[0m playlist_features_list \u001B[38;5;241m=\u001B[39m [\n\u001B[1;32m      2\u001B[0m     \u001B[38;5;124m\"\u001B[39m\u001B[38;5;124mtrack_id\u001B[39m\u001B[38;5;124m\"\u001B[39m,\n\u001B[1;32m      3\u001B[0m     \u001B[38;5;124m\"\u001B[39m\u001B[38;5;124mtrack_name\u001B[39m\u001B[38;5;124m\"\u001B[39m,\n\u001B[0;32m   (...)\u001B[0m\n\u001B[1;32m     17\u001B[0m     \u001B[38;5;124m\"\u001B[39m\u001B[38;5;124mtime_signature\u001B[39m\u001B[38;5;124m\"\u001B[39m\n\u001B[1;32m     18\u001B[0m     ]\n\u001B[1;32m     20\u001B[0m df \u001B[38;5;241m=\u001B[39m pd\u001B[38;5;241m.\u001B[39mDataFrame(columns \u001B[38;5;241m=\u001B[39m playlist_features_list)\n\u001B[0;32m---> 22\u001B[0m playlist \u001B[38;5;241m=\u001B[39m \u001B[43msp\u001B[49m\u001B[38;5;241;43m.\u001B[39;49m\u001B[43muser_playlist_tracks\u001B[49m\u001B[43m(\u001B[49m\u001B[38;5;124;43m\"\u001B[39;49m\u001B[38;5;124;43mspotify\u001B[39;49m\u001B[38;5;124;43m\"\u001B[39;49m\u001B[43m,\u001B[49m\u001B[43m \u001B[49m\u001B[43mplaylist_URI\u001B[49m\u001B[43m)\u001B[49m[\u001B[38;5;124m\"\u001B[39m\u001B[38;5;124mitems\u001B[39m\u001B[38;5;124m\"\u001B[39m]\n\u001B[1;32m     23\u001B[0m \u001B[38;5;28;01mfor\u001B[39;00m track \u001B[38;5;129;01min\u001B[39;00m playlist:\n\u001B[1;32m     24\u001B[0m     \u001B[38;5;66;03m# Create empty dict\u001B[39;00m\n\u001B[1;32m     25\u001B[0m     playlist_features \u001B[38;5;241m=\u001B[39m {}\n",
      "File \u001B[0;32m~/Documents/Scripts/Spotify/.venv/lib/python3.11/site-packages/spotipy/client.py:796\u001B[0m, in \u001B[0;36mSpotify.user_playlist_tracks\u001B[0;34m(self, user, playlist_id, fields, limit, offset, market)\u001B[0m\n\u001B[1;32m    781\u001B[0m warnings\u001B[38;5;241m.\u001B[39mwarn(\n\u001B[1;32m    782\u001B[0m     \u001B[38;5;124m\"\u001B[39m\u001B[38;5;124mYou should use `playlist_tracks(playlist_id)` instead\u001B[39m\u001B[38;5;124m\"\u001B[39m,\n\u001B[1;32m    783\u001B[0m     \u001B[38;5;167;01mDeprecationWarning\u001B[39;00m,\n\u001B[1;32m    784\u001B[0m )\n\u001B[1;32m    786\u001B[0m \u001B[38;5;250m\u001B[39m\u001B[38;5;124;03m\"\"\" Get full details of the tracks of a playlist owned by a user.\u001B[39;00m\n\u001B[1;32m    787\u001B[0m \n\u001B[1;32m    788\u001B[0m \u001B[38;5;124;03m    Parameters:\u001B[39;00m\n\u001B[0;32m   (...)\u001B[0m\n\u001B[1;32m    794\u001B[0m \u001B[38;5;124;03m        - market - an ISO 3166-1 alpha-2 country code.\u001B[39;00m\n\u001B[1;32m    795\u001B[0m \u001B[38;5;124;03m\"\"\"\u001B[39;00m\n\u001B[0;32m--> 796\u001B[0m \u001B[38;5;28;01mreturn\u001B[39;00m \u001B[38;5;28;43mself\u001B[39;49m\u001B[38;5;241;43m.\u001B[39;49m\u001B[43mplaylist_tracks\u001B[49m\u001B[43m(\u001B[49m\n\u001B[1;32m    797\u001B[0m \u001B[43m    \u001B[49m\u001B[43mplaylist_id\u001B[49m\u001B[43m,\u001B[49m\n\u001B[1;32m    798\u001B[0m \u001B[43m    \u001B[49m\u001B[43mlimit\u001B[49m\u001B[38;5;241;43m=\u001B[39;49m\u001B[43mlimit\u001B[49m\u001B[43m,\u001B[49m\n\u001B[1;32m    799\u001B[0m \u001B[43m    \u001B[49m\u001B[43moffset\u001B[49m\u001B[38;5;241;43m=\u001B[39;49m\u001B[43moffset\u001B[49m\u001B[43m,\u001B[49m\n\u001B[1;32m    800\u001B[0m \u001B[43m    \u001B[49m\u001B[43mfields\u001B[49m\u001B[38;5;241;43m=\u001B[39;49m\u001B[43mfields\u001B[49m\u001B[43m,\u001B[49m\n\u001B[1;32m    801\u001B[0m \u001B[43m    \u001B[49m\u001B[43mmarket\u001B[49m\u001B[38;5;241;43m=\u001B[39;49m\u001B[43mmarket\u001B[49m\u001B[43m,\u001B[49m\n\u001B[1;32m    802\u001B[0m \u001B[43m\u001B[49m\u001B[43m)\u001B[49m\n",
      "File \u001B[0;32m~/Documents/Scripts/Spotify/.venv/lib/python3.11/site-packages/spotipy/client.py:698\u001B[0m, in \u001B[0;36mSpotify.playlist_tracks\u001B[0;34m(self, playlist_id, fields, limit, offset, market, additional_types)\u001B[0m\n\u001B[1;32m    682\u001B[0m \u001B[38;5;250m\u001B[39m\u001B[38;5;124;03m\"\"\" Get full details of the tracks of a playlist.\u001B[39;00m\n\u001B[1;32m    683\u001B[0m \n\u001B[1;32m    684\u001B[0m \u001B[38;5;124;03m    Parameters:\u001B[39;00m\n\u001B[0;32m   (...)\u001B[0m\n\u001B[1;32m    691\u001B[0m \u001B[38;5;124;03m                             valid types are: track and episode\u001B[39;00m\n\u001B[1;32m    692\u001B[0m \u001B[38;5;124;03m\"\"\"\u001B[39;00m\n\u001B[1;32m    693\u001B[0m warnings\u001B[38;5;241m.\u001B[39mwarn(\n\u001B[1;32m    694\u001B[0m     \u001B[38;5;124m\"\u001B[39m\u001B[38;5;124mYou should use `playlist_items(playlist_id, ...,\u001B[39m\u001B[38;5;124m\"\u001B[39m\n\u001B[1;32m    695\u001B[0m     \u001B[38;5;124m\"\u001B[39m\u001B[38;5;124madditional_types=(\u001B[39m\u001B[38;5;124m'\u001B[39m\u001B[38;5;124mtrack\u001B[39m\u001B[38;5;124m'\u001B[39m\u001B[38;5;124m,))` instead\u001B[39m\u001B[38;5;124m\"\u001B[39m,\n\u001B[1;32m    696\u001B[0m     \u001B[38;5;167;01mDeprecationWarning\u001B[39;00m,\n\u001B[1;32m    697\u001B[0m )\n\u001B[0;32m--> 698\u001B[0m \u001B[38;5;28;01mreturn\u001B[39;00m \u001B[38;5;28;43mself\u001B[39;49m\u001B[38;5;241;43m.\u001B[39;49m\u001B[43mplaylist_items\u001B[49m\u001B[43m(\u001B[49m\u001B[43mplaylist_id\u001B[49m\u001B[43m,\u001B[49m\u001B[43m \u001B[49m\u001B[43mfields\u001B[49m\u001B[43m,\u001B[49m\u001B[43m \u001B[49m\u001B[43mlimit\u001B[49m\u001B[43m,\u001B[49m\u001B[43m \u001B[49m\u001B[43moffset\u001B[49m\u001B[43m,\u001B[49m\n\u001B[1;32m    699\u001B[0m \u001B[43m                           \u001B[49m\u001B[43mmarket\u001B[49m\u001B[43m,\u001B[49m\u001B[43m \u001B[49m\u001B[43madditional_types\u001B[49m\u001B[43m)\u001B[49m\n",
      "File \u001B[0;32m~/Documents/Scripts/Spotify/.venv/lib/python3.11/site-packages/spotipy/client.py:722\u001B[0m, in \u001B[0;36mSpotify.playlist_items\u001B[0;34m(self, playlist_id, fields, limit, offset, market, additional_types)\u001B[0m\n\u001B[1;32m    710\u001B[0m \u001B[38;5;250m\u001B[39m\u001B[38;5;124;03m\"\"\" Get full details of the tracks and episodes of a playlist.\u001B[39;00m\n\u001B[1;32m    711\u001B[0m \n\u001B[1;32m    712\u001B[0m \u001B[38;5;124;03m    Parameters:\u001B[39;00m\n\u001B[0;32m   (...)\u001B[0m\n\u001B[1;32m    719\u001B[0m \u001B[38;5;124;03m                             valid types are: track and episode\u001B[39;00m\n\u001B[1;32m    720\u001B[0m \u001B[38;5;124;03m\"\"\"\u001B[39;00m\n\u001B[1;32m    721\u001B[0m plid \u001B[38;5;241m=\u001B[39m \u001B[38;5;28mself\u001B[39m\u001B[38;5;241m.\u001B[39m_get_id(\u001B[38;5;124m\"\u001B[39m\u001B[38;5;124mplaylist\u001B[39m\u001B[38;5;124m\"\u001B[39m, playlist_id)\n\u001B[0;32m--> 722\u001B[0m \u001B[38;5;28;01mreturn\u001B[39;00m \u001B[38;5;28;43mself\u001B[39;49m\u001B[38;5;241;43m.\u001B[39;49m\u001B[43m_get\u001B[49m\u001B[43m(\u001B[49m\n\u001B[1;32m    723\u001B[0m \u001B[43m    \u001B[49m\u001B[38;5;124;43mf\u001B[39;49m\u001B[38;5;124;43m\"\u001B[39;49m\u001B[38;5;124;43mplaylists/\u001B[39;49m\u001B[38;5;132;43;01m{\u001B[39;49;00m\u001B[43mplid\u001B[49m\u001B[38;5;132;43;01m}\u001B[39;49;00m\u001B[38;5;124;43m/tracks\u001B[39;49m\u001B[38;5;124;43m\"\u001B[39;49m\u001B[43m,\u001B[49m\n\u001B[1;32m    724\u001B[0m \u001B[43m    \u001B[49m\u001B[43mlimit\u001B[49m\u001B[38;5;241;43m=\u001B[39;49m\u001B[43mlimit\u001B[49m\u001B[43m,\u001B[49m\n\u001B[1;32m    725\u001B[0m \u001B[43m    \u001B[49m\u001B[43moffset\u001B[49m\u001B[38;5;241;43m=\u001B[39;49m\u001B[43moffset\u001B[49m\u001B[43m,\u001B[49m\n\u001B[1;32m    726\u001B[0m \u001B[43m    \u001B[49m\u001B[43mfields\u001B[49m\u001B[38;5;241;43m=\u001B[39;49m\u001B[43mfields\u001B[49m\u001B[43m,\u001B[49m\n\u001B[1;32m    727\u001B[0m \u001B[43m    \u001B[49m\u001B[43mmarket\u001B[49m\u001B[38;5;241;43m=\u001B[39;49m\u001B[43mmarket\u001B[49m\u001B[43m,\u001B[49m\n\u001B[1;32m    728\u001B[0m \u001B[43m    \u001B[49m\u001B[43madditional_types\u001B[49m\u001B[38;5;241;43m=\u001B[39;49m\u001B[38;5;124;43m\"\u001B[39;49m\u001B[38;5;124;43m,\u001B[39;49m\u001B[38;5;124;43m\"\u001B[39;49m\u001B[38;5;241;43m.\u001B[39;49m\u001B[43mjoin\u001B[49m\u001B[43m(\u001B[49m\u001B[43madditional_types\u001B[49m\u001B[43m)\u001B[49m\n\u001B[1;32m    729\u001B[0m \u001B[43m\u001B[49m\u001B[43m)\u001B[49m\n",
      "File \u001B[0;32m~/Documents/Scripts/Spotify/.venv/lib/python3.11/site-packages/spotipy/client.py:327\u001B[0m, in \u001B[0;36mSpotify._get\u001B[0;34m(self, url, args, payload, **kwargs)\u001B[0m\n\u001B[1;32m    324\u001B[0m \u001B[38;5;28;01mif\u001B[39;00m args:\n\u001B[1;32m    325\u001B[0m     kwargs\u001B[38;5;241m.\u001B[39mupdate(args)\n\u001B[0;32m--> 327\u001B[0m \u001B[38;5;28;01mreturn\u001B[39;00m \u001B[38;5;28;43mself\u001B[39;49m\u001B[38;5;241;43m.\u001B[39;49m\u001B[43m_internal_call\u001B[49m\u001B[43m(\u001B[49m\u001B[38;5;124;43m\"\u001B[39;49m\u001B[38;5;124;43mGET\u001B[39;49m\u001B[38;5;124;43m\"\u001B[39;49m\u001B[43m,\u001B[49m\u001B[43m \u001B[49m\u001B[43murl\u001B[49m\u001B[43m,\u001B[49m\u001B[43m \u001B[49m\u001B[43mpayload\u001B[49m\u001B[43m,\u001B[49m\u001B[43m \u001B[49m\u001B[43mkwargs\u001B[49m\u001B[43m)\u001B[49m\n",
      "File \u001B[0;32m~/Documents/Scripts/Spotify/.venv/lib/python3.11/site-packages/spotipy/client.py:251\u001B[0m, in \u001B[0;36mSpotify._internal_call\u001B[0;34m(self, method, url, payload, params)\u001B[0m\n\u001B[1;32m    249\u001B[0m \u001B[38;5;28;01mif\u001B[39;00m \u001B[38;5;129;01mnot\u001B[39;00m url\u001B[38;5;241m.\u001B[39mstartswith(\u001B[38;5;124m\"\u001B[39m\u001B[38;5;124mhttp\u001B[39m\u001B[38;5;124m\"\u001B[39m):\n\u001B[1;32m    250\u001B[0m     url \u001B[38;5;241m=\u001B[39m \u001B[38;5;28mself\u001B[39m\u001B[38;5;241m.\u001B[39mprefix \u001B[38;5;241m+\u001B[39m url\n\u001B[0;32m--> 251\u001B[0m headers \u001B[38;5;241m=\u001B[39m \u001B[38;5;28;43mself\u001B[39;49m\u001B[38;5;241;43m.\u001B[39;49m\u001B[43m_auth_headers\u001B[49m\u001B[43m(\u001B[49m\u001B[43m)\u001B[49m\n\u001B[1;32m    253\u001B[0m \u001B[38;5;28;01mif\u001B[39;00m \u001B[38;5;124m\"\u001B[39m\u001B[38;5;124mcontent_type\u001B[39m\u001B[38;5;124m\"\u001B[39m \u001B[38;5;129;01min\u001B[39;00m args[\u001B[38;5;124m\"\u001B[39m\u001B[38;5;124mparams\u001B[39m\u001B[38;5;124m\"\u001B[39m]:\n\u001B[1;32m    254\u001B[0m     headers[\u001B[38;5;124m\"\u001B[39m\u001B[38;5;124mContent-Type\u001B[39m\u001B[38;5;124m\"\u001B[39m] \u001B[38;5;241m=\u001B[39m args[\u001B[38;5;124m\"\u001B[39m\u001B[38;5;124mparams\u001B[39m\u001B[38;5;124m\"\u001B[39m][\u001B[38;5;124m\"\u001B[39m\u001B[38;5;124mcontent_type\u001B[39m\u001B[38;5;124m\"\u001B[39m]\n",
      "File \u001B[0;32m~/Documents/Scripts/Spotify/.venv/lib/python3.11/site-packages/spotipy/client.py:242\u001B[0m, in \u001B[0;36mSpotify._auth_headers\u001B[0;34m(self)\u001B[0m\n\u001B[1;32m    240\u001B[0m     \u001B[38;5;28;01mreturn\u001B[39;00m {}\n\u001B[1;32m    241\u001B[0m \u001B[38;5;28;01mtry\u001B[39;00m:\n\u001B[0;32m--> 242\u001B[0m     token \u001B[38;5;241m=\u001B[39m \u001B[38;5;28;43mself\u001B[39;49m\u001B[38;5;241;43m.\u001B[39;49m\u001B[43mauth_manager\u001B[49m\u001B[38;5;241;43m.\u001B[39;49m\u001B[43mget_access_token\u001B[49m\u001B[43m(\u001B[49m\u001B[43mas_dict\u001B[49m\u001B[38;5;241;43m=\u001B[39;49m\u001B[38;5;28;43;01mFalse\u001B[39;49;00m\u001B[43m)\u001B[49m\n\u001B[1;32m    243\u001B[0m \u001B[38;5;28;01mexcept\u001B[39;00m \u001B[38;5;167;01mTypeError\u001B[39;00m:\n\u001B[1;32m    244\u001B[0m     token \u001B[38;5;241m=\u001B[39m \u001B[38;5;28mself\u001B[39m\u001B[38;5;241m.\u001B[39mauth_manager\u001B[38;5;241m.\u001B[39mget_access_token()\n",
      "File \u001B[0;32m~/Documents/Scripts/Spotify/.venv/lib/python3.11/site-packages/spotipy/oauth2.py:225\u001B[0m, in \u001B[0;36mSpotifyClientCredentials.get_access_token\u001B[0;34m(self, as_dict, check_cache)\u001B[0m\n\u001B[1;32m    215\u001B[0m     warnings\u001B[38;5;241m.\u001B[39mwarn(\n\u001B[1;32m    216\u001B[0m         \u001B[38;5;124m\"\u001B[39m\u001B[38;5;124mYou\u001B[39m\u001B[38;5;124m'\u001B[39m\u001B[38;5;124mre using \u001B[39m\u001B[38;5;124m'\u001B[39m\u001B[38;5;124mas_dict = True\u001B[39m\u001B[38;5;124m'\u001B[39m\u001B[38;5;124m.\u001B[39m\u001B[38;5;124m\"\u001B[39m\n\u001B[1;32m    217\u001B[0m         \u001B[38;5;124m\"\u001B[39m\u001B[38;5;124mget_access_token will return the token string directly in future \u001B[39m\u001B[38;5;124m\"\u001B[39m\n\u001B[0;32m   (...)\u001B[0m\n\u001B[1;32m    221\u001B[0m         stacklevel\u001B[38;5;241m=\u001B[39m\u001B[38;5;241m2\u001B[39m,\n\u001B[1;32m    222\u001B[0m     )\n\u001B[1;32m    224\u001B[0m \u001B[38;5;28;01mif\u001B[39;00m check_cache:\n\u001B[0;32m--> 225\u001B[0m     token_info \u001B[38;5;241m=\u001B[39m \u001B[38;5;28;43mself\u001B[39;49m\u001B[38;5;241;43m.\u001B[39;49m\u001B[43mcache_handler\u001B[49m\u001B[38;5;241;43m.\u001B[39;49m\u001B[43mget_cached_token\u001B[49m\u001B[43m(\u001B[49m\u001B[43m)\u001B[49m\n\u001B[1;32m    226\u001B[0m     \u001B[38;5;28;01mif\u001B[39;00m token_info \u001B[38;5;129;01mand\u001B[39;00m \u001B[38;5;129;01mnot\u001B[39;00m \u001B[38;5;28mself\u001B[39m\u001B[38;5;241m.\u001B[39mis_token_expired(token_info):\n\u001B[1;32m    227\u001B[0m         \u001B[38;5;28;01mreturn\u001B[39;00m token_info \u001B[38;5;28;01mif\u001B[39;00m as_dict \u001B[38;5;28;01melse\u001B[39;00m token_info[\u001B[38;5;124m\"\u001B[39m\u001B[38;5;124maccess_token\u001B[39m\u001B[38;5;124m\"\u001B[39m]\n",
      "File \u001B[0;32m~/Documents/Scripts/Spotify/.venv/lib/python3.11/site-packages/spotipy/cache_handler.py:82\u001B[0m, in \u001B[0;36mCacheFileHandler.get_cached_token\u001B[0;34m(self)\u001B[0m\n\u001B[1;32m     80\u001B[0m     token_info_string \u001B[38;5;241m=\u001B[39m f\u001B[38;5;241m.\u001B[39mread()\n\u001B[1;32m     81\u001B[0m     f\u001B[38;5;241m.\u001B[39mclose()\n\u001B[0;32m---> 82\u001B[0m     token_info \u001B[38;5;241m=\u001B[39m \u001B[43mjson\u001B[49m\u001B[38;5;241;43m.\u001B[39;49m\u001B[43mloads\u001B[49m\u001B[43m(\u001B[49m\u001B[43mtoken_info_string\u001B[49m\u001B[43m)\u001B[49m\n\u001B[1;32m     84\u001B[0m \u001B[38;5;28;01mexcept\u001B[39;00m \u001B[38;5;167;01mOSError\u001B[39;00m \u001B[38;5;28;01mas\u001B[39;00m error:\n\u001B[1;32m     85\u001B[0m     \u001B[38;5;28;01mif\u001B[39;00m error\u001B[38;5;241m.\u001B[39merrno \u001B[38;5;241m==\u001B[39m errno\u001B[38;5;241m.\u001B[39mENOENT:\n",
      "File \u001B[0;32m/opt/homebrew/Cellar/python@3.11/3.11.8/Frameworks/Python.framework/Versions/3.11/lib/python3.11/json/__init__.py:346\u001B[0m, in \u001B[0;36mloads\u001B[0;34m(s, cls, object_hook, parse_float, parse_int, parse_constant, object_pairs_hook, **kw)\u001B[0m\n\u001B[1;32m    341\u001B[0m     s \u001B[38;5;241m=\u001B[39m s\u001B[38;5;241m.\u001B[39mdecode(detect_encoding(s), \u001B[38;5;124m'\u001B[39m\u001B[38;5;124msurrogatepass\u001B[39m\u001B[38;5;124m'\u001B[39m)\n\u001B[1;32m    343\u001B[0m \u001B[38;5;28;01mif\u001B[39;00m (\u001B[38;5;28mcls\u001B[39m \u001B[38;5;129;01mis\u001B[39;00m \u001B[38;5;28;01mNone\u001B[39;00m \u001B[38;5;129;01mand\u001B[39;00m object_hook \u001B[38;5;129;01mis\u001B[39;00m \u001B[38;5;28;01mNone\u001B[39;00m \u001B[38;5;129;01mand\u001B[39;00m\n\u001B[1;32m    344\u001B[0m         parse_int \u001B[38;5;129;01mis\u001B[39;00m \u001B[38;5;28;01mNone\u001B[39;00m \u001B[38;5;129;01mand\u001B[39;00m parse_float \u001B[38;5;129;01mis\u001B[39;00m \u001B[38;5;28;01mNone\u001B[39;00m \u001B[38;5;129;01mand\u001B[39;00m\n\u001B[1;32m    345\u001B[0m         parse_constant \u001B[38;5;129;01mis\u001B[39;00m \u001B[38;5;28;01mNone\u001B[39;00m \u001B[38;5;129;01mand\u001B[39;00m object_pairs_hook \u001B[38;5;129;01mis\u001B[39;00m \u001B[38;5;28;01mNone\u001B[39;00m \u001B[38;5;129;01mand\u001B[39;00m \u001B[38;5;129;01mnot\u001B[39;00m kw):\n\u001B[0;32m--> 346\u001B[0m     \u001B[38;5;28;01mreturn\u001B[39;00m \u001B[43m_default_decoder\u001B[49m\u001B[38;5;241;43m.\u001B[39;49m\u001B[43mdecode\u001B[49m\u001B[43m(\u001B[49m\u001B[43ms\u001B[49m\u001B[43m)\u001B[49m\n\u001B[1;32m    347\u001B[0m \u001B[38;5;28;01mif\u001B[39;00m \u001B[38;5;28mcls\u001B[39m \u001B[38;5;129;01mis\u001B[39;00m \u001B[38;5;28;01mNone\u001B[39;00m:\n\u001B[1;32m    348\u001B[0m     \u001B[38;5;28mcls\u001B[39m \u001B[38;5;241m=\u001B[39m JSONDecoder\n",
      "File \u001B[0;32m/opt/homebrew/Cellar/python@3.11/3.11.8/Frameworks/Python.framework/Versions/3.11/lib/python3.11/json/decoder.py:337\u001B[0m, in \u001B[0;36mJSONDecoder.decode\u001B[0;34m(self, s, _w)\u001B[0m\n\u001B[1;32m    332\u001B[0m \u001B[38;5;28;01mdef\u001B[39;00m \u001B[38;5;21mdecode\u001B[39m(\u001B[38;5;28mself\u001B[39m, s, _w\u001B[38;5;241m=\u001B[39mWHITESPACE\u001B[38;5;241m.\u001B[39mmatch):\n\u001B[1;32m    333\u001B[0m \u001B[38;5;250m    \u001B[39m\u001B[38;5;124;03m\"\"\"Return the Python representation of ``s`` (a ``str`` instance\u001B[39;00m\n\u001B[1;32m    334\u001B[0m \u001B[38;5;124;03m    containing a JSON document).\u001B[39;00m\n\u001B[1;32m    335\u001B[0m \n\u001B[1;32m    336\u001B[0m \u001B[38;5;124;03m    \"\"\"\u001B[39;00m\n\u001B[0;32m--> 337\u001B[0m     obj, end \u001B[38;5;241m=\u001B[39m \u001B[38;5;28;43mself\u001B[39;49m\u001B[38;5;241;43m.\u001B[39;49m\u001B[43mraw_decode\u001B[49m\u001B[43m(\u001B[49m\u001B[43ms\u001B[49m\u001B[43m,\u001B[49m\u001B[43m \u001B[49m\u001B[43midx\u001B[49m\u001B[38;5;241;43m=\u001B[39;49m\u001B[43m_w\u001B[49m\u001B[43m(\u001B[49m\u001B[43ms\u001B[49m\u001B[43m,\u001B[49m\u001B[43m \u001B[49m\u001B[38;5;241;43m0\u001B[39;49m\u001B[43m)\u001B[49m\u001B[38;5;241;43m.\u001B[39;49m\u001B[43mend\u001B[49m\u001B[43m(\u001B[49m\u001B[43m)\u001B[49m\u001B[43m)\u001B[49m\n\u001B[1;32m    338\u001B[0m     end \u001B[38;5;241m=\u001B[39m _w(s, end)\u001B[38;5;241m.\u001B[39mend()\n\u001B[1;32m    339\u001B[0m     \u001B[38;5;28;01mif\u001B[39;00m end \u001B[38;5;241m!=\u001B[39m \u001B[38;5;28mlen\u001B[39m(s):\n",
      "File \u001B[0;32m/opt/homebrew/Cellar/python@3.11/3.11.8/Frameworks/Python.framework/Versions/3.11/lib/python3.11/json/decoder.py:355\u001B[0m, in \u001B[0;36mJSONDecoder.raw_decode\u001B[0;34m(self, s, idx)\u001B[0m\n\u001B[1;32m    353\u001B[0m     obj, end \u001B[38;5;241m=\u001B[39m \u001B[38;5;28mself\u001B[39m\u001B[38;5;241m.\u001B[39mscan_once(s, idx)\n\u001B[1;32m    354\u001B[0m \u001B[38;5;28;01mexcept\u001B[39;00m \u001B[38;5;167;01mStopIteration\u001B[39;00m \u001B[38;5;28;01mas\u001B[39;00m err:\n\u001B[0;32m--> 355\u001B[0m     \u001B[38;5;28;01mraise\u001B[39;00m JSONDecodeError(\u001B[38;5;124m\"\u001B[39m\u001B[38;5;124mExpecting value\u001B[39m\u001B[38;5;124m\"\u001B[39m, s, err\u001B[38;5;241m.\u001B[39mvalue) \u001B[38;5;28;01mfrom\u001B[39;00m \u001B[38;5;28;01mNone\u001B[39;00m\n\u001B[1;32m    356\u001B[0m \u001B[38;5;28;01mreturn\u001B[39;00m obj, end\n",
      "\u001B[0;31mJSONDecodeError\u001B[0m: Expecting value: line 1 column 1 (char 0)"
     ]
    }
   ],
   "execution_count": 6
  },
  {
   "cell_type": "markdown",
   "metadata": {},
   "source": [
    "# Column Info & Conversions"
   ]
  },
  {
   "cell_type": "code",
   "metadata": {},
   "source": [
    "df.head()\n",
    "\n",
    "# df.describe()\n",
    "\n",
    "# df.isna().any()\n",
    "\n",
    "# df.dtypes"
   ],
   "outputs": [],
   "execution_count": null
  },
  {
   "cell_type": "code",
   "metadata": {},
   "source": [
    "# Converting and Renaming\n",
    "df = df.astype({\"tempo\": float,\n",
    "                \"duration_ms\": float,\n",
    "                \"danceability\": float,\n",
    "                \"energy\": float,\n",
    "                \"key\": float,\n",
    "                \"loudness\": float,\n",
    "                \"mode\": int,\n",
    "                \"speechiness\": float,\n",
    "                \"instrumentalness\": float,\n",
    "                \"liveness\": float,\n",
    "                \"valence\": float,\n",
    "                \"time_signature\": int\n",
    "                # \"energy\": float,\n",
    "                 })\n",
    "\n",
    "                 \n",
    "df.rename(columns={\n",
    "#     'artist':'Artist',\n",
    "#     'album':'Album',\n",
    "#     'track_name':'Track', \n",
    "#     'track_id':'ID', \n",
    "#     'danceability':'Danceability', \n",
    "#     'energy':'Energy', \n",
    "#     'key':'Key', \n",
    "#     'loudness':'Loudness', \n",
    "#     'mode':'Mode', \n",
    "#     'speechiness':'Speechiness', \n",
    "#     'instrumentalness':'Instrumentalness', \n",
    "#     'liveness':'Liveness', \n",
    "#     'valence':'Valence', \n",
    "#     'tempo':'Tempo', \n",
    "    'duration_ms':'duration_m'\n",
    "#     'time_signature':'Time_Signature'\n",
    "    }, inplace=True)\n",
    "\n",
    "df['duration_m'] = (df['duration_m'] / 1000 ) /60\n",
    "\n",
    "df[['track_name','speechiness']]\n"
   ],
   "outputs": [],
   "execution_count": null
  },
  {
   "cell_type": "markdown",
   "metadata": {},
   "source": [
    "# Specific Metrics"
   ]
  },
  {
   "cell_type": "code",
   "metadata": {},
   "source": [
    "\n",
    "# Max / Min Tempo\n",
    "df[df['tempo']==df['tempo'].min()][['track_name', 'tempo','duration_m']]\n",
    "\n",
    "# Longest Song\n",
    "# df[df['duration_m']==df['duration_m'].max()]['track_name']\n",
    "\n",
    "\n",
    "# Temp\n",
    "df[df['speechiness']==df['speechiness'].max()][['track_name', 'artist','speechiness']]\n",
    "# df[df['speechiness']==df['speechiness'].min()][['track_name', 'artist','speechiness']]\n"
   ],
   "outputs": [],
   "execution_count": null
  },
  {
   "cell_type": "markdown",
   "metadata": {},
   "source": [
    "# Visualisations"
   ]
  },
  {
   "cell_type": "code",
   "metadata": {},
   "source": [
    "dur_hist = df[['duration_m']]\n",
    "\n",
    "duration_max = int(df[['duration_m']].max() + 0.5)\n",
    "duration_min = int(df[['duration_m']].min())\n",
    "\n",
    "fig = mpl.figure(figsize=(15, 25))\n",
    "\n",
    "mpl.suptitle('Duration Distribution',\n",
    "                horizontalalignment=\"right\",\n",
    "                fontstyle = \"normal\", \n",
    "                fontsize = 35, \n",
    "                fontfamily = \"sans-serif\")\n",
    "\n",
    "for i in range(dur_hist.shape[1]):\n",
    "    mpl.subplot(6, 3, i + 1)\n",
    "    f = mpl.gca()\n",
    "    f.set_title(dur_hist.columns.values[i],fontsize='15')\n",
    "\n",
    "    vals = np.size(dur_hist.iloc[:, i].unique())\n",
    "    if vals >= 100:\n",
    "        vals = 100\n",
    "        \n",
    "    mpl.hist(dur_hist.iloc[:, i], \n",
    "                bins=vals, \n",
    "                color = 'white')\n",
    "\n",
    "# X axis tick rate\n",
    "mpl.xticks(np.arange(duration_min, duration_max, 0.5))\n",
    "mpl.style.use('dark_background') # Because dark mode everything\n",
    "mpl.tight_layout(rect=[0, 0.05, 2, 0.95])"
   ],
   "outputs": [],
   "execution_count": null
  },
  {
   "cell_type": "code",
   "metadata": {},
   "source": [
    "tempo_hist = df[['tempo']]\n",
    "\n",
    "tempo_max = int(df[['tempo']].max() + 1)\n",
    "tempo_min = int(df[['tempo']].min() - 1)\n",
    "\n",
    "fig = mpl.figure(figsize=(15, 25))\n",
    "\n",
    "mpl.suptitle('Tempo Distribution',\n",
    "                horizontalalignment=\"left\",\n",
    "                fontstyle = \"normal\", \n",
    "                fontsize = 40, \n",
    "                fontfamily = \"sans-serif\")\n",
    "\n",
    "for i in range(tempo_hist.shape[1]):\n",
    "    mpl.subplot(6, 3, i + 1)\n",
    "    f = mpl.gca()\n",
    "    f.set_title(tempo_hist.columns.values[i],fontsize='15')\n",
    "\n",
    "    vals = np.size(tempo_hist.iloc[:, i].unique())\n",
    "    if vals >= 100:\n",
    "        vals = 100\n",
    "        \n",
    "    mpl.hist(tempo_hist.iloc[:, i], \n",
    "                bins=vals, \n",
    "                color = 'white')\n",
    "\n",
    "# X axis tick rate\n",
    "mpl.xticks(np.arange(tempo_min, tempo_max, 2))\n",
    "mpl.style.use('dark_background') # Because dark mode everything\n",
    "mpl.tight_layout(rect=[0, 0.05, 5, 0.95])"
   ],
   "outputs": [],
   "execution_count": null
  },
  {
   "cell_type": "code",
   "metadata": {},
   "source": [
    "ds2 = df[[\"tempo\",\n",
    "            \"duration_m\",\n",
    "            \"danceability\",\n",
    "            \"energy\",\n",
    "            \"key\",\n",
    "            \"loudness\",\n",
    "            \"mode\",\n",
    "            \"speechiness\",\n",
    "            \"instrumentalness\",\n",
    "            \"liveness\",\n",
    "            \"valence\",\n",
    "            \"time_signature\"\n",
    "            ]]\n",
    "\n",
    "# ds2 = df\n",
    "\n",
    "fig = mpl.figure(figsize=(15, 25))\n",
    "\n",
    "mpl.suptitle('Blanket Histogram',\n",
    "                horizontalalignment=\"center\",\n",
    "                fontstyle = \"normal\", \n",
    "                fontsize = 24, \n",
    "                fontfamily = \"sans-serif\")\n",
    "\n",
    "for i in range(ds2.shape[1]):\n",
    "    mpl.subplot(6, 3, i + 1)\n",
    "    f = mpl.gca()\n",
    "    f.set_title(ds2.columns.values[i],fontsize='15')\n",
    "\n",
    "    vals = np.size(ds2.iloc[:, i].unique())\n",
    "    if vals >= 100:\n",
    "        vals = 100\n",
    "        \n",
    "    mpl.hist(ds2.iloc[:, i], \n",
    "                bins=vals, \n",
    "                color = 'white')\n",
    "\n",
    "mpl.style.use('dark_background') # Because dark mode everything\n",
    "mpl.tight_layout(rect=[0, 0.03, 1, 0.95])"
   ],
   "outputs": [],
   "execution_count": null
  },
  {
   "cell_type": "code",
   "metadata": {},
   "source": [
    "# ds2 = df[['tempo', \n",
    "#             'energy',\n",
    "#             'duration_m',\n",
    "#             'speechiness',\n",
    "#             'danceability'\n",
    "#             # 'duration_m',\n",
    "#             ]]\n",
    "\n",
    "ds2 = df\n",
    "\n",
    "correlations = ds2.corrwith(df.tempo)\n",
    "correlations = correlations[correlations!=1]\n",
    "\n",
    "positive_correlations = correlations[correlations >0].sort_values(ascending = False)\n",
    "negative_correlations =correlations[correlations <0].sort_values(ascending = False)\n",
    "\n",
    "# Printing values\n",
    "print('Most Positive Correlations: \\n', positive_correlations)\n",
    "print('\\nMost Negative Correlations: \\n', negative_correlations)\n",
    "\n",
    "correlations.plot.bar(figsize = (10, 7), \n",
    "                        fontsize = 12, \n",
    "                        color = 'white',\n",
    "                        rot = 30)\n",
    "\n",
    "mpl.title('Tempo Correlation \\n',\n",
    "            horizontalalignment=\"center\", \n",
    "            fontstyle = \"normal\", \n",
    "            fontsize = \"22\", \n",
    "            fontfamily = \"sans-serif\")"
   ],
   "outputs": [],
   "execution_count": null
  },
  {
   "cell_type": "code",
   "metadata": {},
   "source": [
    "# ds2 = df[['tempo', \n",
    "#             'energy',\n",
    "#             'duration_m',\n",
    "#             'speechiness',\n",
    "#             'danceability'\n",
    "#             # 'duration_m',\n",
    "#             ]]\n",
    "\n",
    "ds2 = df\n",
    "\n",
    "correlations = ds2.corrwith(df.valence)\n",
    "correlations = correlations[correlations!=1]\n",
    "\n",
    "positive_correlations = correlations[correlations >0].sort_values(ascending = False)\n",
    "negative_correlations =correlations[correlations <0].sort_values(ascending = False)\n",
    "\n",
    "# Printing values\n",
    "print('Most Positive Correlations: \\n', positive_correlations)\n",
    "print('\\nMost Negative Correlations: \\n', negative_correlations)\n",
    "\n",
    "correlations.plot.bar(figsize = (10, 7), \n",
    "                        fontsize = 12, \n",
    "                        color = 'white',\n",
    "                        rot = 30\n",
    "                        )\n",
    "\n",
    "mpl.title('Valence (Positivity) Correlation \\n',\n",
    "            horizontalalignment=\"center\", \n",
    "            fontstyle = \"normal\", \n",
    "            fontsize = \"22\", \n",
    "            fontfamily = \"sans-serif\")"
   ],
   "outputs": [],
   "execution_count": null
  }
 ],
 "metadata": {
  "kernelspec": {
   "display_name": "Python 3.9.10 64-bit",
   "language": "python",
   "name": "python3"
  },
  "language_info": {
   "codemirror_mode": {
    "name": "ipython",
    "version": 3
   },
   "file_extension": ".py",
   "mimetype": "text/x-python",
   "name": "python",
   "nbconvert_exporter": "python",
   "pygments_lexer": "ipython3",
   "version": "3.9.10"
  },
  "orig_nbformat": 4,
  "vscode": {
   "interpreter": {
    "hash": "b0fa6594d8f4cbf19f97940f81e996739fb7646882a419484c72d19e05852a7e"
   }
  }
 },
 "nbformat": 4,
 "nbformat_minor": 2
}
