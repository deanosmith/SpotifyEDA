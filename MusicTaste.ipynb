{
 "cells": [
  {
   "cell_type": "markdown",
   "metadata": {},
   "source": [
    "# Import and Settings\n",
    "### Python - 3.9.10"
   ]
  },
  {
   "cell_type": "code",
   "execution_count": 2,
   "metadata": {},
   "outputs": [],
   "source": [
    "import spotipy\n",
    "import numpy as np\n",
    "import pandas as pd\n",
    "import seaborn as sb\n",
    "from creds import cid, secret\n",
    "import matplotlib.pyplot as mpl\n",
    "from spotipy.oauth2 import SpotifyClientCredentials"
   ]
  },
  {
   "cell_type": "code",
   "execution_count": 3,
   "metadata": {},
   "outputs": [],
   "source": [
    "#  Your Spotify API app credentials\n",
    "# cid = 'your_client id'\n",
    "# secret = 'your_client secret'\n",
    "\n",
    "client_credentials_manager = SpotifyClientCredentials(client_id=cid, client_secret=secret)\n",
    "sp = spotipy.Spotify(client_credentials_manager = client_credentials_manager)\n"
   ]
  },
  {
   "cell_type": "code",
   "execution_count": 4,
   "metadata": {},
   "outputs": [],
   "source": [
    "# Tops Songs 2020\n",
    "# playlist_link = \"https://open.spotify.com/playlist/37i9dQZF1EM9DVbOg6CjfI?si=f57f3dbd0c7c4342\"\n",
    "\n",
    "# Tops Songs 2021\n",
    "# playlist_link = \"https://open.spotify.com/playlist/2m7FyVPAKKwu3xfpn49miL?si=c4db6bb449f74d55\"\n",
    "\n",
    "# Tops Songs 2022\n",
    "# playlist_link = \"https://open.spotify.com/playlist/0rXAPXNnHgU3FUmBhKULXP?si=918768d5124a4a4c\"\n",
    "\n",
    "# Tops Songs 2023\n",
    "playlist_link = \"https://open.spotify.com/playlist/37i9dQZF1Fa1IIVtEpGUcU?si=ea1656c524ef4958\"\n",
    "\n",
    "playlist_URI = playlist_link.split(\"/\")[-1].split(\"?\")[0]"
   ]
  },
  {
   "cell_type": "code",
   "execution_count": 5,
   "metadata": {},
   "outputs": [
    {
     "ename": "JSONDecodeError",
     "evalue": "Expecting value: line 1 column 1 (char 0)",
     "output_type": "error",
     "traceback": [
      "\u001b[0;31m---------------------------------------------------------------------------\u001b[0m",
      "\u001b[0;31mJSONDecodeError\u001b[0m                           Traceback (most recent call last)",
      "\u001b[1;32m/Users/deanmsmith/Documents/Scripts/Spotify/MusicTaste.ipynb Cell 5\u001b[0m line \u001b[0;36m<module>\u001b[0;34m\u001b[0m\n\u001b[1;32m      <a href='vscode-notebook-cell:/Users/deanmsmith/Documents/Scripts/Spotify/MusicTaste.ipynb#W4sZmlsZQ%3D%3D?line=0'>1</a>\u001b[0m playlist_features_list \u001b[39m=\u001b[39m [\n\u001b[1;32m      <a href='vscode-notebook-cell:/Users/deanmsmith/Documents/Scripts/Spotify/MusicTaste.ipynb#W4sZmlsZQ%3D%3D?line=1'>2</a>\u001b[0m     \u001b[39m\"\u001b[39m\u001b[39mtrack_id\u001b[39m\u001b[39m\"\u001b[39m,\n\u001b[1;32m      <a href='vscode-notebook-cell:/Users/deanmsmith/Documents/Scripts/Spotify/MusicTaste.ipynb#W4sZmlsZQ%3D%3D?line=2'>3</a>\u001b[0m     \u001b[39m\"\u001b[39m\u001b[39mtrack_name\u001b[39m\u001b[39m\"\u001b[39m,\n\u001b[0;32m   (...)\u001b[0m\n\u001b[1;32m     <a href='vscode-notebook-cell:/Users/deanmsmith/Documents/Scripts/Spotify/MusicTaste.ipynb#W4sZmlsZQ%3D%3D?line=16'>17</a>\u001b[0m     \u001b[39m\"\u001b[39m\u001b[39mtime_signature\u001b[39m\u001b[39m\"\u001b[39m\n\u001b[1;32m     <a href='vscode-notebook-cell:/Users/deanmsmith/Documents/Scripts/Spotify/MusicTaste.ipynb#W4sZmlsZQ%3D%3D?line=17'>18</a>\u001b[0m     ]\n\u001b[1;32m     <a href='vscode-notebook-cell:/Users/deanmsmith/Documents/Scripts/Spotify/MusicTaste.ipynb#W4sZmlsZQ%3D%3D?line=19'>20</a>\u001b[0m df \u001b[39m=\u001b[39m pd\u001b[39m.\u001b[39mDataFrame(columns \u001b[39m=\u001b[39m playlist_features_list)\n\u001b[0;32m---> <a href='vscode-notebook-cell:/Users/deanmsmith/Documents/Scripts/Spotify/MusicTaste.ipynb#W4sZmlsZQ%3D%3D?line=21'>22</a>\u001b[0m playlist \u001b[39m=\u001b[39m sp\u001b[39m.\u001b[39;49muser_playlist_tracks(\u001b[39m\"\u001b[39;49m\u001b[39mspotify\u001b[39;49m\u001b[39m\"\u001b[39;49m, playlist_URI)[\u001b[39m\"\u001b[39m\u001b[39mitems\u001b[39m\u001b[39m\"\u001b[39m]\n\u001b[1;32m     <a href='vscode-notebook-cell:/Users/deanmsmith/Documents/Scripts/Spotify/MusicTaste.ipynb#W4sZmlsZQ%3D%3D?line=23'>24</a>\u001b[0m \u001b[39mfor\u001b[39;00m track \u001b[39min\u001b[39;00m playlist:\n\u001b[1;32m     <a href='vscode-notebook-cell:/Users/deanmsmith/Documents/Scripts/Spotify/MusicTaste.ipynb#W4sZmlsZQ%3D%3D?line=24'>25</a>\u001b[0m     \u001b[39m# Create empty dict\u001b[39;00m\n\u001b[1;32m     <a href='vscode-notebook-cell:/Users/deanmsmith/Documents/Scripts/Spotify/MusicTaste.ipynb#W4sZmlsZQ%3D%3D?line=25'>26</a>\u001b[0m     playlist_features \u001b[39m=\u001b[39m {}\n",
      "File \u001b[0;32m~/Library/Python/3.10/lib/python/site-packages/spotipy/client.py:781\u001b[0m, in \u001b[0;36mSpotify.user_playlist_tracks\u001b[0;34m(self, user, playlist_id, fields, limit, offset, market)\u001b[0m\n\u001b[1;32m    766\u001b[0m warnings\u001b[39m.\u001b[39mwarn(\n\u001b[1;32m    767\u001b[0m     \u001b[39m\"\u001b[39m\u001b[39mYou should use `playlist_tracks(playlist_id)` instead\u001b[39m\u001b[39m\"\u001b[39m,\n\u001b[1;32m    768\u001b[0m     \u001b[39mDeprecationWarning\u001b[39;00m,\n\u001b[1;32m    769\u001b[0m )\n\u001b[1;32m    771\u001b[0m \u001b[39m\"\"\" Get full details of the tracks of a playlist owned by a user.\u001b[39;00m\n\u001b[1;32m    772\u001b[0m \n\u001b[1;32m    773\u001b[0m \u001b[39m    Parameters:\u001b[39;00m\n\u001b[0;32m   (...)\u001b[0m\n\u001b[1;32m    779\u001b[0m \u001b[39m        - market - an ISO 3166-1 alpha-2 country code.\u001b[39;00m\n\u001b[1;32m    780\u001b[0m \u001b[39m\"\"\"\u001b[39;00m\n\u001b[0;32m--> 781\u001b[0m \u001b[39mreturn\u001b[39;00m \u001b[39mself\u001b[39;49m\u001b[39m.\u001b[39;49mplaylist_tracks(\n\u001b[1;32m    782\u001b[0m     playlist_id,\n\u001b[1;32m    783\u001b[0m     limit\u001b[39m=\u001b[39;49mlimit,\n\u001b[1;32m    784\u001b[0m     offset\u001b[39m=\u001b[39;49moffset,\n\u001b[1;32m    785\u001b[0m     fields\u001b[39m=\u001b[39;49mfields,\n\u001b[1;32m    786\u001b[0m     market\u001b[39m=\u001b[39;49mmarket,\n\u001b[1;32m    787\u001b[0m )\n",
      "File \u001b[0;32m~/Library/Python/3.10/lib/python/site-packages/spotipy/client.py:683\u001b[0m, in \u001b[0;36mSpotify.playlist_tracks\u001b[0;34m(self, playlist_id, fields, limit, offset, market, additional_types)\u001b[0m\n\u001b[1;32m    667\u001b[0m \u001b[39m\"\"\" Get full details of the tracks of a playlist.\u001b[39;00m\n\u001b[1;32m    668\u001b[0m \n\u001b[1;32m    669\u001b[0m \u001b[39m    Parameters:\u001b[39;00m\n\u001b[0;32m   (...)\u001b[0m\n\u001b[1;32m    676\u001b[0m \u001b[39m                             valid types are: track and episode\u001b[39;00m\n\u001b[1;32m    677\u001b[0m \u001b[39m\"\"\"\u001b[39;00m\n\u001b[1;32m    678\u001b[0m warnings\u001b[39m.\u001b[39mwarn(\n\u001b[1;32m    679\u001b[0m     \u001b[39m\"\u001b[39m\u001b[39mYou should use `playlist_items(playlist_id, ...,\u001b[39m\u001b[39m\"\u001b[39m\n\u001b[1;32m    680\u001b[0m     \u001b[39m\"\u001b[39m\u001b[39madditional_types=(\u001b[39m\u001b[39m'\u001b[39m\u001b[39mtrack\u001b[39m\u001b[39m'\u001b[39m\u001b[39m,))` instead\u001b[39m\u001b[39m\"\u001b[39m,\n\u001b[1;32m    681\u001b[0m     \u001b[39mDeprecationWarning\u001b[39;00m,\n\u001b[1;32m    682\u001b[0m )\n\u001b[0;32m--> 683\u001b[0m \u001b[39mreturn\u001b[39;00m \u001b[39mself\u001b[39;49m\u001b[39m.\u001b[39;49mplaylist_items(playlist_id, fields, limit, offset,\n\u001b[1;32m    684\u001b[0m                            market, additional_types)\n",
      "File \u001b[0;32m~/Library/Python/3.10/lib/python/site-packages/spotipy/client.py:707\u001b[0m, in \u001b[0;36mSpotify.playlist_items\u001b[0;34m(self, playlist_id, fields, limit, offset, market, additional_types)\u001b[0m\n\u001b[1;32m    695\u001b[0m \u001b[39m\"\"\" Get full details of the tracks and episodes of a playlist.\u001b[39;00m\n\u001b[1;32m    696\u001b[0m \n\u001b[1;32m    697\u001b[0m \u001b[39m    Parameters:\u001b[39;00m\n\u001b[0;32m   (...)\u001b[0m\n\u001b[1;32m    704\u001b[0m \u001b[39m                             valid types are: track and episode\u001b[39;00m\n\u001b[1;32m    705\u001b[0m \u001b[39m\"\"\"\u001b[39;00m\n\u001b[1;32m    706\u001b[0m plid \u001b[39m=\u001b[39m \u001b[39mself\u001b[39m\u001b[39m.\u001b[39m_get_id(\u001b[39m\"\u001b[39m\u001b[39mplaylist\u001b[39m\u001b[39m\"\u001b[39m, playlist_id)\n\u001b[0;32m--> 707\u001b[0m \u001b[39mreturn\u001b[39;00m \u001b[39mself\u001b[39;49m\u001b[39m.\u001b[39;49m_get(\n\u001b[1;32m    708\u001b[0m     \u001b[39m\"\u001b[39;49m\u001b[39mplaylists/\u001b[39;49m\u001b[39m%s\u001b[39;49;00m\u001b[39m/tracks\u001b[39;49m\u001b[39m\"\u001b[39;49m \u001b[39m%\u001b[39;49m (plid),\n\u001b[1;32m    709\u001b[0m     limit\u001b[39m=\u001b[39;49mlimit,\n\u001b[1;32m    710\u001b[0m     offset\u001b[39m=\u001b[39;49moffset,\n\u001b[1;32m    711\u001b[0m     fields\u001b[39m=\u001b[39;49mfields,\n\u001b[1;32m    712\u001b[0m     market\u001b[39m=\u001b[39;49mmarket,\n\u001b[1;32m    713\u001b[0m     additional_types\u001b[39m=\u001b[39;49m\u001b[39m\"\u001b[39;49m\u001b[39m,\u001b[39;49m\u001b[39m\"\u001b[39;49m\u001b[39m.\u001b[39;49mjoin(additional_types)\n\u001b[1;32m    714\u001b[0m )\n",
      "File \u001b[0;32m~/Library/Python/3.10/lib/python/site-packages/spotipy/client.py:323\u001b[0m, in \u001b[0;36mSpotify._get\u001b[0;34m(self, url, args, payload, **kwargs)\u001b[0m\n\u001b[1;32m    320\u001b[0m \u001b[39mif\u001b[39;00m args:\n\u001b[1;32m    321\u001b[0m     kwargs\u001b[39m.\u001b[39mupdate(args)\n\u001b[0;32m--> 323\u001b[0m \u001b[39mreturn\u001b[39;00m \u001b[39mself\u001b[39;49m\u001b[39m.\u001b[39;49m_internal_call(\u001b[39m\"\u001b[39;49m\u001b[39mGET\u001b[39;49m\u001b[39m\"\u001b[39;49m, url, payload, kwargs)\n",
      "File \u001b[0;32m~/Library/Python/3.10/lib/python/site-packages/spotipy/client.py:247\u001b[0m, in \u001b[0;36mSpotify._internal_call\u001b[0;34m(self, method, url, payload, params)\u001b[0m\n\u001b[1;32m    245\u001b[0m \u001b[39mif\u001b[39;00m \u001b[39mnot\u001b[39;00m url\u001b[39m.\u001b[39mstartswith(\u001b[39m\"\u001b[39m\u001b[39mhttp\u001b[39m\u001b[39m\"\u001b[39m):\n\u001b[1;32m    246\u001b[0m     url \u001b[39m=\u001b[39m \u001b[39mself\u001b[39m\u001b[39m.\u001b[39mprefix \u001b[39m+\u001b[39m url\n\u001b[0;32m--> 247\u001b[0m headers \u001b[39m=\u001b[39m \u001b[39mself\u001b[39;49m\u001b[39m.\u001b[39;49m_auth_headers()\n\u001b[1;32m    249\u001b[0m \u001b[39mif\u001b[39;00m \u001b[39m\"\u001b[39m\u001b[39mcontent_type\u001b[39m\u001b[39m\"\u001b[39m \u001b[39min\u001b[39;00m args[\u001b[39m\"\u001b[39m\u001b[39mparams\u001b[39m\u001b[39m\"\u001b[39m]:\n\u001b[1;32m    250\u001b[0m     headers[\u001b[39m\"\u001b[39m\u001b[39mContent-Type\u001b[39m\u001b[39m\"\u001b[39m] \u001b[39m=\u001b[39m args[\u001b[39m\"\u001b[39m\u001b[39mparams\u001b[39m\u001b[39m\"\u001b[39m][\u001b[39m\"\u001b[39m\u001b[39mcontent_type\u001b[39m\u001b[39m\"\u001b[39m]\n",
      "File \u001b[0;32m~/Library/Python/3.10/lib/python/site-packages/spotipy/client.py:238\u001b[0m, in \u001b[0;36mSpotify._auth_headers\u001b[0;34m(self)\u001b[0m\n\u001b[1;32m    236\u001b[0m     \u001b[39mreturn\u001b[39;00m {}\n\u001b[1;32m    237\u001b[0m \u001b[39mtry\u001b[39;00m:\n\u001b[0;32m--> 238\u001b[0m     token \u001b[39m=\u001b[39m \u001b[39mself\u001b[39;49m\u001b[39m.\u001b[39;49mauth_manager\u001b[39m.\u001b[39;49mget_access_token(as_dict\u001b[39m=\u001b[39;49m\u001b[39mFalse\u001b[39;49;00m)\n\u001b[1;32m    239\u001b[0m \u001b[39mexcept\u001b[39;00m \u001b[39mTypeError\u001b[39;00m:\n\u001b[1;32m    240\u001b[0m     token \u001b[39m=\u001b[39m \u001b[39mself\u001b[39m\u001b[39m.\u001b[39mauth_manager\u001b[39m.\u001b[39mget_access_token()\n",
      "File \u001b[0;32m~/Library/Python/3.10/lib/python/site-packages/spotipy/oauth2.py:234\u001b[0m, in \u001b[0;36mSpotifyClientCredentials.get_access_token\u001b[0;34m(self, as_dict, check_cache)\u001b[0m\n\u001b[1;32m    224\u001b[0m     warnings\u001b[39m.\u001b[39mwarn(\n\u001b[1;32m    225\u001b[0m         \u001b[39m\"\u001b[39m\u001b[39mYou\u001b[39m\u001b[39m'\u001b[39m\u001b[39mre using \u001b[39m\u001b[39m'\u001b[39m\u001b[39mas_dict = True\u001b[39m\u001b[39m'\u001b[39m\u001b[39m.\u001b[39m\u001b[39m\"\u001b[39m\n\u001b[1;32m    226\u001b[0m         \u001b[39m\"\u001b[39m\u001b[39mget_access_token will return the token string directly in future \u001b[39m\u001b[39m\"\u001b[39m\n\u001b[0;32m   (...)\u001b[0m\n\u001b[1;32m    230\u001b[0m         stacklevel\u001b[39m=\u001b[39m\u001b[39m2\u001b[39m,\n\u001b[1;32m    231\u001b[0m     )\n\u001b[1;32m    233\u001b[0m \u001b[39mif\u001b[39;00m check_cache:\n\u001b[0;32m--> 234\u001b[0m     token_info \u001b[39m=\u001b[39m \u001b[39mself\u001b[39;49m\u001b[39m.\u001b[39;49mcache_handler\u001b[39m.\u001b[39;49mget_cached_token()\n\u001b[1;32m    235\u001b[0m     \u001b[39mif\u001b[39;00m token_info \u001b[39mand\u001b[39;00m \u001b[39mnot\u001b[39;00m \u001b[39mself\u001b[39m\u001b[39m.\u001b[39mis_token_expired(token_info):\n\u001b[1;32m    236\u001b[0m         \u001b[39mreturn\u001b[39;00m token_info \u001b[39mif\u001b[39;00m as_dict \u001b[39melse\u001b[39;00m token_info[\u001b[39m\"\u001b[39m\u001b[39maccess_token\u001b[39m\u001b[39m\"\u001b[39m]\n",
      "File \u001b[0;32m~/Library/Python/3.10/lib/python/site-packages/spotipy/cache_handler.py:81\u001b[0m, in \u001b[0;36mCacheFileHandler.get_cached_token\u001b[0;34m(self)\u001b[0m\n\u001b[1;32m     79\u001b[0m     token_info_string \u001b[39m=\u001b[39m f\u001b[39m.\u001b[39mread()\n\u001b[1;32m     80\u001b[0m     f\u001b[39m.\u001b[39mclose()\n\u001b[0;32m---> 81\u001b[0m     token_info \u001b[39m=\u001b[39m json\u001b[39m.\u001b[39;49mloads(token_info_string)\n\u001b[1;32m     83\u001b[0m \u001b[39mexcept\u001b[39;00m \u001b[39mIOError\u001b[39;00m \u001b[39mas\u001b[39;00m error:\n\u001b[1;32m     84\u001b[0m     \u001b[39mif\u001b[39;00m error\u001b[39m.\u001b[39merrno \u001b[39m==\u001b[39m errno\u001b[39m.\u001b[39mENOENT:\n",
      "File \u001b[0;32m/Library/Frameworks/Python.framework/Versions/3.10/lib/python3.10/json/__init__.py:346\u001b[0m, in \u001b[0;36mloads\u001b[0;34m(s, cls, object_hook, parse_float, parse_int, parse_constant, object_pairs_hook, **kw)\u001b[0m\n\u001b[1;32m    341\u001b[0m     s \u001b[39m=\u001b[39m s\u001b[39m.\u001b[39mdecode(detect_encoding(s), \u001b[39m'\u001b[39m\u001b[39msurrogatepass\u001b[39m\u001b[39m'\u001b[39m)\n\u001b[1;32m    343\u001b[0m \u001b[39mif\u001b[39;00m (\u001b[39mcls\u001b[39m \u001b[39mis\u001b[39;00m \u001b[39mNone\u001b[39;00m \u001b[39mand\u001b[39;00m object_hook \u001b[39mis\u001b[39;00m \u001b[39mNone\u001b[39;00m \u001b[39mand\u001b[39;00m\n\u001b[1;32m    344\u001b[0m         parse_int \u001b[39mis\u001b[39;00m \u001b[39mNone\u001b[39;00m \u001b[39mand\u001b[39;00m parse_float \u001b[39mis\u001b[39;00m \u001b[39mNone\u001b[39;00m \u001b[39mand\u001b[39;00m\n\u001b[1;32m    345\u001b[0m         parse_constant \u001b[39mis\u001b[39;00m \u001b[39mNone\u001b[39;00m \u001b[39mand\u001b[39;00m object_pairs_hook \u001b[39mis\u001b[39;00m \u001b[39mNone\u001b[39;00m \u001b[39mand\u001b[39;00m \u001b[39mnot\u001b[39;00m kw):\n\u001b[0;32m--> 346\u001b[0m     \u001b[39mreturn\u001b[39;00m _default_decoder\u001b[39m.\u001b[39;49mdecode(s)\n\u001b[1;32m    347\u001b[0m \u001b[39mif\u001b[39;00m \u001b[39mcls\u001b[39m \u001b[39mis\u001b[39;00m \u001b[39mNone\u001b[39;00m:\n\u001b[1;32m    348\u001b[0m     \u001b[39mcls\u001b[39m \u001b[39m=\u001b[39m JSONDecoder\n",
      "File \u001b[0;32m/Library/Frameworks/Python.framework/Versions/3.10/lib/python3.10/json/decoder.py:337\u001b[0m, in \u001b[0;36mJSONDecoder.decode\u001b[0;34m(self, s, _w)\u001b[0m\n\u001b[1;32m    332\u001b[0m \u001b[39mdef\u001b[39;00m \u001b[39mdecode\u001b[39m(\u001b[39mself\u001b[39m, s, _w\u001b[39m=\u001b[39mWHITESPACE\u001b[39m.\u001b[39mmatch):\n\u001b[1;32m    333\u001b[0m     \u001b[39m\"\"\"Return the Python representation of ``s`` (a ``str`` instance\u001b[39;00m\n\u001b[1;32m    334\u001b[0m \u001b[39m    containing a JSON document).\u001b[39;00m\n\u001b[1;32m    335\u001b[0m \n\u001b[1;32m    336\u001b[0m \u001b[39m    \"\"\"\u001b[39;00m\n\u001b[0;32m--> 337\u001b[0m     obj, end \u001b[39m=\u001b[39m \u001b[39mself\u001b[39;49m\u001b[39m.\u001b[39;49mraw_decode(s, idx\u001b[39m=\u001b[39;49m_w(s, \u001b[39m0\u001b[39;49m)\u001b[39m.\u001b[39;49mend())\n\u001b[1;32m    338\u001b[0m     end \u001b[39m=\u001b[39m _w(s, end)\u001b[39m.\u001b[39mend()\n\u001b[1;32m    339\u001b[0m     \u001b[39mif\u001b[39;00m end \u001b[39m!=\u001b[39m \u001b[39mlen\u001b[39m(s):\n",
      "File \u001b[0;32m/Library/Frameworks/Python.framework/Versions/3.10/lib/python3.10/json/decoder.py:355\u001b[0m, in \u001b[0;36mJSONDecoder.raw_decode\u001b[0;34m(self, s, idx)\u001b[0m\n\u001b[1;32m    353\u001b[0m     obj, end \u001b[39m=\u001b[39m \u001b[39mself\u001b[39m\u001b[39m.\u001b[39mscan_once(s, idx)\n\u001b[1;32m    354\u001b[0m \u001b[39mexcept\u001b[39;00m \u001b[39mStopIteration\u001b[39;00m \u001b[39mas\u001b[39;00m err:\n\u001b[0;32m--> 355\u001b[0m     \u001b[39mraise\u001b[39;00m JSONDecodeError(\u001b[39m\"\u001b[39m\u001b[39mExpecting value\u001b[39m\u001b[39m\"\u001b[39m, s, err\u001b[39m.\u001b[39mvalue) \u001b[39mfrom\u001b[39;00m \u001b[39mNone\u001b[39m\n\u001b[1;32m    356\u001b[0m \u001b[39mreturn\u001b[39;00m obj, end\n",
      "\u001b[0;31mJSONDecodeError\u001b[0m: Expecting value: line 1 column 1 (char 0)"
     ]
    }
   ],
   "source": [
    "playlist_features_list = [\n",
    "    \"track_id\",\n",
    "    \"track_name\",\n",
    "    \"artist\",\n",
    "    \"album\",\n",
    "    \"tempo\",\n",
    "    \"duration_ms\",\n",
    "    \"danceability\",\n",
    "    \"energy\",\n",
    "    \"key\",\n",
    "    \"loudness\",\n",
    "    \"mode\",\n",
    "    \"speechiness\",\n",
    "    \"instrumentalness\",\n",
    "    \"liveness\",\n",
    "    \"valence\",\n",
    "    \"time_signature\"\n",
    "    ]\n",
    "\n",
    "df = pd.DataFrame(columns = playlist_features_list)\n",
    "    \n",
    "playlist = sp.user_playlist_tracks(\"spotify\", playlist_URI)[\"items\"]\n",
    "\n",
    "for track in playlist:\n",
    "    # Create empty dict\n",
    "    playlist_features = {}\n",
    "    # Get metadata\n",
    "    playlist_features[\"artist\"] = track[\"track\"][\"album\"][\"artists\"][0][\"name\"]\n",
    "    playlist_features[\"album\"] = track[\"track\"][\"album\"][\"name\"]\n",
    "    playlist_features[\"track_name\"] = track[\"track\"][\"name\"]\n",
    "    playlist_features[\"track_id\"] = track[\"track\"][\"id\"]\n",
    "    \n",
    "    # Get audio features\n",
    "    audio_features = sp.audio_features(playlist_features[\"track_id\"])[0]\n",
    "    for feature in playlist_features_list[4:]:\n",
    "        playlist_features[feature] = audio_features[feature]\n",
    "    \n",
    "    # Concat the dfs\n",
    "    track_df = pd.DataFrame(playlist_features, index = [0])\n",
    "    df = pd.concat([df, track_df], ignore_index = True)\n",
    "    \n",
    "    \n",
    "    results = pd.concat([df, track_df], ignore_index = True)\n",
    "\n",
    "results"
   ]
  },
  {
   "cell_type": "code",
   "execution_count": null,
   "metadata": {},
   "outputs": [],
   "source": [
    "lil_graph_list = results[[\n",
    "    \"danceability\",\n",
    "    \"energy\",\n",
    "    \"speechiness\",\n",
    "    \"instrumentalness\",\n",
    "    \"liveness\",\n",
    "    \"valence\"\n",
    "    ]]\n",
    "\n",
    "big_graph_list = results[[\n",
    "    \"tempo\",\n",
    "    # \"duration_ms\",\n",
    "    \"key\",\n",
    "    \"loudness\",\n",
    "    \"mode\",\n",
    "    \"time_signature\"\n",
    "    ]]\n",
    "\n",
    "graph_list = results[[\n",
    "    \"tempo\",\n",
    "    \"duration_ms\",\n",
    "    \"danceability\",\n",
    "    \"energy\",\n",
    "    \"key\",\n",
    "    \"loudness\",\n",
    "    \"mode\",\n",
    "    \"speechiness\",\n",
    "    \"instrumentalness\",\n",
    "    \"liveness\",\n",
    "    \"valence\"\n",
    "    # \"time_signature\"\n",
    "        ]]\n",
    "\n",
    "\n",
    "graph_list"
   ]
  },
  {
   "cell_type": "code",
   "execution_count": null,
   "metadata": {},
   "outputs": [],
   "source": [
    "from sklearn.preprocessing import MinMaxScaler\n",
    "# \n",
    "min_max_scaler = MinMaxScaler()\n",
    "\n",
    "graph_list.loc[:]=min_max_scaler.fit_transform(graph_list.loc[:])\n"
   ]
  },
  {
   "cell_type": "code",
   "execution_count": null,
   "metadata": {},
   "outputs": [],
   "source": [
    "# plot size\n",
    "fig=mpl.figure(figsize=(12,8))\n",
    "\n",
    "# convert column names into a list\n",
    "categories=list(graph_list.columns)\n",
    "# number of categories\n",
    "N=len(categories)\n",
    "\n",
    "# create a list with the average of all features\n",
    "value=list(graph_list.mean())\n",
    "\n",
    "# repeat first value to close the circle\n",
    "# the plot is a circle, so we need to \"complete the loop\"\n",
    "# and append the start value to the end.\n",
    "value+=value[:1]\n",
    "# calculate angle for each category\n",
    "angles=[n/float(N)*2*3.14 for n in range(N)]\n",
    "angles+=angles[:1]\n",
    "\n",
    "# plot\n",
    "mpl.polar(angles, value)\n",
    "mpl.fill(angles,value,alpha=0.3)\n",
    "\n",
    "# mpl.title('Discovery Weekly Songs Audio Features', size=35)\n",
    "\n",
    "mpl.xticks(angles[:-1],categories, size=15)\n",
    "mpl.yticks(color='black',size=15)\n",
    "# mpl.style.use('dark_background') # Because dark mode everything\n",
    "mpl.show()"
   ]
  }
 ],
 "metadata": {
  "kernelspec": {
   "display_name": "Python 3.9.10 64-bit",
   "language": "python",
   "name": "python3"
  },
  "language_info": {
   "codemirror_mode": {
    "name": "ipython",
    "version": 3
   },
   "file_extension": ".py",
   "mimetype": "text/x-python",
   "name": "python",
   "nbconvert_exporter": "python",
   "pygments_lexer": "ipython3",
   "version": "3.10.1"
  },
  "orig_nbformat": 4,
  "vscode": {
   "interpreter": {
    "hash": "b0fa6594d8f4cbf19f97940f81e996739fb7646882a419484c72d19e05852a7e"
   }
  }
 },
 "nbformat": 4,
 "nbformat_minor": 2
}
